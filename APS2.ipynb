{
 "cells": [
  {
   "cell_type": "code",
   "execution_count": 7,
   "metadata": {},
   "outputs": [],
   "source": [
    "import pandas as pd\n",
    "import numpy as np\n",
    "from collections import Counter\n",
    "import re"
   ]
  },
  {
   "cell_type": "code",
   "execution_count": 8,
   "metadata": {},
   "outputs": [
    {
     "data": {
      "text/html": [
       "<div>\n",
       "<style scoped>\n",
       "    .dataframe tbody tr th:only-of-type {\n",
       "        vertical-align: middle;\n",
       "    }\n",
       "\n",
       "    .dataframe tbody tr th {\n",
       "        vertical-align: top;\n",
       "    }\n",
       "\n",
       "    .dataframe thead th {\n",
       "        text-align: right;\n",
       "    }\n",
       "</style>\n",
       "<table border=\"1\" class=\"dataframe\">\n",
       "  <thead>\n",
       "    <tr style=\"text-align: right;\">\n",
       "      <th></th>\n",
       "      <th>title</th>\n",
       "      <th>lyrics</th>\n",
       "    </tr>\n",
       "  </thead>\n",
       "  <tbody>\n",
       "    <tr>\n",
       "      <th>0</th>\n",
       "      <td>A day in the life</td>\n",
       "      <td>I read the news today oh boy About a lucky man...</td>\n",
       "    </tr>\n",
       "    <tr>\n",
       "      <th>1</th>\n",
       "      <td>A hard day's night</td>\n",
       "      <td>\"It's been a hard day's night, and I been work...</td>\n",
       "    </tr>\n",
       "    <tr>\n",
       "      <th>2</th>\n",
       "      <td>A little help from my friends</td>\n",
       "      <td>A little help from my friends \"What would you ...</td>\n",
       "    </tr>\n",
       "    <tr>\n",
       "      <th>3</th>\n",
       "      <td>A taste of honey</td>\n",
       "      <td>A taste of honey... tasting much sweeter than ...</td>\n",
       "    </tr>\n",
       "    <tr>\n",
       "      <th>4</th>\n",
       "      <td>Across the universe</td>\n",
       "      <td>\"Words are flowing out like endless rain into ...</td>\n",
       "    </tr>\n",
       "    <tr>\n",
       "      <th>...</th>\n",
       "      <td>...</td>\n",
       "      <td>...</td>\n",
       "    </tr>\n",
       "    <tr>\n",
       "      <th>206</th>\n",
       "      <td>You never give me your money You never give me...</td>\n",
       "      <td>You only give me your funny paper and in the m...</td>\n",
       "    </tr>\n",
       "    <tr>\n",
       "      <th>207</th>\n",
       "      <td>You really got a hold on me</td>\n",
       "      <td>I don't like you But I love you See that I'm a...</td>\n",
       "    </tr>\n",
       "    <tr>\n",
       "      <th>208</th>\n",
       "      <td>You won't see me</td>\n",
       "      <td>When I call you up Your line's engaged I have ...</td>\n",
       "    </tr>\n",
       "    <tr>\n",
       "      <th>209</th>\n",
       "      <td>You're going to lose that girl</td>\n",
       "      <td>\"You're going to lose that girl,\" You're going...</td>\n",
       "    </tr>\n",
       "    <tr>\n",
       "      <th>210</th>\n",
       "      <td>You've got to hide your love away</td>\n",
       "      <td>Here I stand head in hand Turn my face to the ...</td>\n",
       "    </tr>\n",
       "  </tbody>\n",
       "</table>\n",
       "<p>211 rows × 2 columns</p>\n",
       "</div>"
      ],
      "text/plain": [
       "                                                 title  \\\n",
       "0                                    A day in the life   \n",
       "1                                   A hard day's night   \n",
       "2                        A little help from my friends   \n",
       "3                                     A taste of honey   \n",
       "4                                  Across the universe   \n",
       "..                                                 ...   \n",
       "206  You never give me your money You never give me...   \n",
       "207                        You really got a hold on me   \n",
       "208                                   You won't see me   \n",
       "209                     You're going to lose that girl   \n",
       "210                  You've got to hide your love away   \n",
       "\n",
       "                                                lyrics  \n",
       "0    I read the news today oh boy About a lucky man...  \n",
       "1    \"It's been a hard day's night, and I been work...  \n",
       "2    A little help from my friends \"What would you ...  \n",
       "3    A taste of honey... tasting much sweeter than ...  \n",
       "4    \"Words are flowing out like endless rain into ...  \n",
       "..                                                 ...  \n",
       "206  You only give me your funny paper and in the m...  \n",
       "207  I don't like you But I love you See that I'm a...  \n",
       "208  When I call you up Your line's engaged I have ...  \n",
       "209  \"You're going to lose that girl,\" You're going...  \n",
       "210  Here I stand head in hand Turn my face to the ...  \n",
       "\n",
       "[211 rows x 2 columns]"
      ]
     },
     "execution_count": 8,
     "metadata": {},
     "output_type": "execute_result"
    }
   ],
   "source": [
    "file_path = \"dados/beatles lyrics.txt\" \n",
    "with open(file_path, \"r\") as f:\n",
    "    lines = f.readlines()\n",
    "\n",
    "songs = []\n",
    "song = {\"title\": \"\", \"lyrics\": \"\"}\n",
    "for line in lines:\n",
    "    line = line.strip()\n",
    "    if line == \"-----\":\n",
    "        if song[\"title\"] and song[\"lyrics\"]:\n",
    "            songs.append(song)\n",
    "        song = {\"title\": \"\", \"lyrics\": \"\"}\n",
    "    elif not song[\"title\"]:\n",
    "        song[\"title\"] = line\n",
    "    else:\n",
    "        song[\"lyrics\"] += line + \" \"\n",
    "\n",
    "df = pd.DataFrame(songs)\n",
    "df\n",
    "\n"
   ]
  },
  {
   "cell_type": "code",
   "execution_count": 9,
   "metadata": {},
   "outputs": [
    {
     "name": "stdout",
     "output_type": "stream",
     "text": [
      "[('you', 1613), ('i', 1281), ('the', 964), ('to', 790), ('me', 735), ('and', 671), ('a', 621), ('in', 390), ('love', 384), ('it', 370), ('my', 354), ('be', 353), ('know', 333), ('that', 310), ('im', 302)]\n"
     ]
    }
   ],
   "source": [
    "def clean_text(text):\n",
    "    text = re.sub(r'[^\\w\\s]', '', text)\n",
    "    text = text.lower()\n",
    "    return text\n",
    "\n",
    "# Contar frequência de palavras\n",
    "def word_frequency(text):\n",
    "    words = text.split()\n",
    "    return Counter(words)\n",
    "\n",
    "# Limpeza de letras de músicas e contagem de palavras\n",
    "df['clean_lyrics'] = df['lyrics'].apply(clean_text)\n",
    "df['word_freq'] = df['clean_lyrics'].apply(word_frequency)\n",
    "\n",
    "# Frequência global de palavras\n",
    "global_word_freq = Counter()\n",
    "for freq in df['word_freq']:\n",
    "    global_word_freq += freq\n",
    "\n",
    "print(global_word_freq.most_common(15))\n"
   ]
  },
  {
   "cell_type": "code",
   "execution_count": 10,
   "metadata": {},
   "outputs": [
    {
     "name": "stdout",
     "output_type": "stream",
     "text": [
      "Número total de palavras nas músicas dos Beatles: 32997\n"
     ]
    }
   ],
   "source": [
    "all_songs = \" \".join(df['lyrics'].str.lower())\n",
    "words_list = all_songs.split()\n",
    "total_words_beatles = len(words_list)\n",
    "print(f\"Número total de palavras nas músicas dos Beatles: {total_words_beatles}\")"
   ]
  },
  {
   "cell_type": "code",
   "execution_count": 13,
   "metadata": {},
   "outputs": [
    {
     "name": "stdout",
     "output_type": "stream",
     "text": [
      "A probabilidade da palavra 'i' aparecer em uma música dos Beatles é 0.033276\n",
      "A probabilidade da palavra 'read' aparecer em uma música dos Beatles é 0.000182\n",
      "A probabilidade da palavra 'the' aparecer em uma música dos Beatles é 0.028669\n",
      "A probabilidade da palavra 'news' aparecer em uma música dos Beatles é 0.000242\n",
      "A probabilidade da palavra 'today' aparecer em uma música dos Beatles é 0.000333\n",
      "A probabilidade da palavra 'oh' aparecer em uma música dos Beatles é 0.001788\n",
      "A probabilidade da palavra 'boy' aparecer em uma música dos Beatles é 0.000758\n",
      "A probabilidade da palavra 'about' aparecer em uma música dos Beatles é 0.000849\n",
      "A probabilidade da palavra 'a' aparecer em uma música dos Beatles é 0.018729\n",
      "A probabilidade da palavra 'lucky' aparecer em uma música dos Beatles é 0.000212\n"
     ]
    }
   ],
   "source": [
    "word_count = Counter(words_list)\n",
    "word_probability = {word: count / total_words_beatles for word, count in word_count.items()}\n",
    "for word in list(word_probability.keys())[:10]:\n",
    "    print(f\"A probabilidade da palavra '{word}' aparecer em uma música dos Beatles é {word_probability[word]:.6f}\")"
   ]
  },
  {
   "cell_type": "code",
   "execution_count": 15,
   "metadata": {},
   "outputs": [
    {
     "data": {
      "text/html": [
       "<div>\n",
       "<style scoped>\n",
       "    .dataframe tbody tr th:only-of-type {\n",
       "        vertical-align: middle;\n",
       "    }\n",
       "\n",
       "    .dataframe tbody tr th {\n",
       "        vertical-align: top;\n",
       "    }\n",
       "\n",
       "    .dataframe thead th {\n",
       "        text-align: right;\n",
       "    }\n",
       "</style>\n",
       "<table border=\"1\" class=\"dataframe\">\n",
       "  <thead>\n",
       "    <tr style=\"text-align: right;\">\n",
       "      <th></th>\n",
       "      <th>title</th>\n",
       "      <th>lyrics</th>\n",
       "    </tr>\n",
       "  </thead>\n",
       "  <tbody>\n",
       "    <tr>\n",
       "      <th>0</th>\n",
       "      <td>Las Palabras de Amor</td>\n",
       "      <td>Don't touch me now Don't hold me now Don't bre...</td>\n",
       "    </tr>\n",
       "    <tr>\n",
       "      <th>1</th>\n",
       "      <td>Lazing On A Sunday Afternoon</td>\n",
       "      <td>I go out to work on Monday morning Tuesday I g...</td>\n",
       "    </tr>\n",
       "    <tr>\n",
       "      <th>2</th>\n",
       "      <td>Leaving Home Ain't Easy</td>\n",
       "      <td>Words and music by Brian May  I take a step o...</td>\n",
       "    </tr>\n",
       "    <tr>\n",
       "      <th>3</th>\n",
       "      <td>Let Me Entertain You</td>\n",
       "      <td>Hey - it's a sellout  Hey - let me welcome you...</td>\n",
       "    </tr>\n",
       "    <tr>\n",
       "      <th>4</th>\n",
       "      <td>Let Me Live</td>\n",
       "      <td>Why don't you take another little piece Of my...</td>\n",
       "    </tr>\n",
       "    <tr>\n",
       "      <th>...</th>\n",
       "      <td>...</td>\n",
       "      <td>...</td>\n",
       "    </tr>\n",
       "    <tr>\n",
       "      <th>106</th>\n",
       "      <td>The Show Must Go On</td>\n",
       "      <td>Empty spaces - what are we living for Abandone...</td>\n",
       "    </tr>\n",
       "    <tr>\n",
       "      <th>107</th>\n",
       "      <td>You And I</td>\n",
       "      <td>Music is playing in the darkness And a lantern...</td>\n",
       "    </tr>\n",
       "    <tr>\n",
       "      <th>108</th>\n",
       "      <td>You Are The Champions</td>\n",
       "      <td>I've paid my dues Time after time I've done my...</td>\n",
       "    </tr>\n",
       "    <tr>\n",
       "      <th>109</th>\n",
       "      <td>You Don't Fool Me</td>\n",
       "      <td>You don't fool me You don't fool me... Da, da ...</td>\n",
       "    </tr>\n",
       "    <tr>\n",
       "      <th>110</th>\n",
       "      <td>You Take My Breath Away</td>\n",
       "      <td>Oooh oooh take it take it all away Oooh ooh ta...</td>\n",
       "    </tr>\n",
       "  </tbody>\n",
       "</table>\n",
       "<p>111 rows × 2 columns</p>\n",
       "</div>"
      ],
      "text/plain": [
       "                            title  \\\n",
       "0            Las Palabras de Amor   \n",
       "1    Lazing On A Sunday Afternoon   \n",
       "2         Leaving Home Ain't Easy   \n",
       "3            Let Me Entertain You   \n",
       "4                     Let Me Live   \n",
       "..                            ...   \n",
       "106           The Show Must Go On   \n",
       "107                     You And I   \n",
       "108         You Are The Champions   \n",
       "109             You Don't Fool Me   \n",
       "110       You Take My Breath Away   \n",
       "\n",
       "                                                lyrics  \n",
       "0    Don't touch me now Don't hold me now Don't bre...  \n",
       "1    I go out to work on Monday morning Tuesday I g...  \n",
       "2     Words and music by Brian May  I take a step o...  \n",
       "3    Hey - it's a sellout  Hey - let me welcome you...  \n",
       "4     Why don't you take another little piece Of my...  \n",
       "..                                                 ...  \n",
       "106  Empty spaces - what are we living for Abandone...  \n",
       "107  Music is playing in the darkness And a lantern...  \n",
       "108  I've paid my dues Time after time I've done my...  \n",
       "109  You don't fool me You don't fool me... Da, da ...  \n",
       "110  Oooh oooh take it take it all away Oooh ooh ta...  \n",
       "\n",
       "[111 rows x 2 columns]"
      ]
     },
     "execution_count": 15,
     "metadata": {},
     "output_type": "execute_result"
    }
   ],
   "source": [
    "\n",
    "file_path = \"dados/queen.txt\" \n",
    "with open(file_path, \"r\") as f:\n",
    "    lines = f.readlines()\n",
    "\n",
    "songs = []\n",
    "song = {\"title\": \"\", \"lyrics\": \"\"}\n",
    "for line in lines:\n",
    "    line = line.strip()\n",
    "    if line == \"-----\":\n",
    "        if song[\"title\"] and song[\"lyrics\"]:\n",
    "            songs.append(song)\n",
    "        song = {\"title\": \"\", \"lyrics\": \"\"}\n",
    "    elif not song[\"title\"]:\n",
    "        song[\"title\"] = line\n",
    "    else:\n",
    "        song[\"lyrics\"] += line + \" \"\n",
    "\n",
    "df = pd.DataFrame(songs)\n",
    "df"
   ]
  },
  {
   "cell_type": "code",
   "execution_count": 27,
   "metadata": {},
   "outputs": [
    {
     "name": "stdout",
     "output_type": "stream",
     "text": [
      "[('the', 910), ('you', 735), ('and', 557), ('i', 547), ('to', 514), ('a', 476), ('me', 447), ('my', 353), ('it', 308), ('on', 277), ('of', 271), ('in', 269), ('all', 250), ('your', 245), ('love', 238)]\n"
     ]
    }
   ],
   "source": [
    "def clean_text_queen(text):\n",
    "    text1 = re.sub(r'[^\\w\\s]', '', text1)\n",
    "    text1 = text.lower()\n",
    "    return text\n",
    "\n",
    "# Contar frequência de palavras\n",
    "def word_frequency_queen(text):\n",
    "    words1 = text.split()\n",
    "    return Counter(words1)\n",
    "\n",
    "# Limpeza de letras de músicas e contagem de palavras\n",
    "df['clean_lyrics'] = df['lyrics'].apply(clean_text)\n",
    "df['word_freq'] = df['clean_lyrics'].apply(word_frequency_queen)\n",
    "\n",
    "# Frequência global de palavras\n",
    "global_word_freq_queen = Counter()\n",
    "for freq in df['word_freq']:\n",
    "    global_word_freq_queen += freq\n",
    "\n",
    "print(global_word_freq.most_common(15))"
   ]
  },
  {
   "cell_type": "code",
   "execution_count": 25,
   "metadata": {},
   "outputs": [
    {
     "name": "stdout",
     "output_type": "stream",
     "text": [
      "Número total de palavras nas músicas dos Queen: 23343\n"
     ]
    }
   ],
   "source": [
    "all_songs_queen = \" \".join(df['lyrics'].str.lower())\n",
    "words_list_queen = all_songs_queen.split()\n",
    "total_words_queen = len(words_list_queen)\n",
    "print(f\"Número total de palavras nas músicas dos Queen: {total_words_queen}\")"
   ]
  },
  {
   "cell_type": "code",
   "execution_count": 28,
   "metadata": {},
   "outputs": [
    {
     "name": "stdout",
     "output_type": "stream",
     "text": [
      "A probabilidade da palavra 'don't' aparecer em uma música do Queen é 0.007326\n",
      "A probabilidade da palavra 'touch' aparecer em uma música do Queen é 0.000428\n",
      "A probabilidade da palavra 'me' aparecer em uma música do Queen é 0.016793\n",
      "A probabilidade da palavra 'now' aparecer em uma música do Queen é 0.003941\n",
      "A probabilidade da palavra 'hold' aparecer em uma música do Queen é 0.000643\n",
      "A probabilidade da palavra 'break' aparecer em uma música do Queen é 0.000685\n",
      "A probabilidade da palavra 'the' aparecer em uma música do Queen é 0.038984\n",
      "A probabilidade da palavra 'spell' aparecer em uma música do Queen é 0.000129\n",
      "A probabilidade da palavra 'darling' aparecer em uma música do Queen é 0.000043\n",
      "A probabilidade da palavra 'you' aparecer em uma música do Queen é 0.030373\n",
      "A probabilidade da palavra 'are' aparecer em uma música do Queen é 0.003384\n",
      "A probabilidade da palavra 'near' aparecer em uma música do Queen é 0.000129\n",
      "A probabilidade da palavra 'look' aparecer em uma música do Queen é 0.001585\n",
      "A probabilidade da palavra 'in' aparecer em uma música do Queen é 0.011481\n",
      "A probabilidade da palavra 'my' aparecer em uma música do Queen é 0.015122\n"
     ]
    }
   ],
   "source": [
    "word_count_queen = Counter(words_list_queen)\n",
    "word_probability_queen = {word: count / total_words_queen for word, count in word_count_queen.items()}\n",
    "for word in list(word_probability_queen.keys())[:15]:\n",
    "    print(f\"A probabilidade da palavra '{word}' aparecer em uma música do Queen é {word_probability_queen[word]:.6f}\")"
   ]
  },
  {
   "cell_type": "code",
   "execution_count": null,
   "metadata": {},
   "outputs": [],
   "source": []
  }
 ],
 "metadata": {
  "kernelspec": {
   "display_name": "Python 3",
   "language": "python",
   "name": "python3"
  },
  "language_info": {
   "codemirror_mode": {
    "name": "ipython",
    "version": 3
   },
   "file_extension": ".py",
   "mimetype": "text/x-python",
   "name": "python",
   "nbconvert_exporter": "python",
   "pygments_lexer": "ipython3",
   "version": "3.9.13"
  },
  "orig_nbformat": 4
 },
 "nbformat": 4,
 "nbformat_minor": 2
}
