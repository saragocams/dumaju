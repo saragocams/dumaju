import pandas as pd
df = pd.read_csv('dados/Enem/MICRODADOS_ENEM_2022 copy.csv', sep=';', encoding='latin1', decimal=',')
df.head()
