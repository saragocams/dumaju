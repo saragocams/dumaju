{
 "cells": [
  {
   "cell_type": "code",
   "execution_count": null,
   "metadata": {},
   "outputs": [],
   "source": [
    "import pandas as pd\n",
    "df = pd.read_csv('ENEM\\MICRODADOS_ENEM_2022.csv', sep=';', encoding='latin1', decimal=',')\n",
    "df.head()\n",
    "\n",
    "#nrows para ler menos dados na hora dos testes = não demorar muito para carregar"
   ]
  },
  {
   "cell_type": "code",
   "execution_count": null,
   "metadata": {},
   "outputs": [],
   "source": [
    "df.columns"
   ]
  },
  {
   "cell_type": "code",
   "execution_count": null,
   "metadata": {},
   "outputs": [],
   "source": [
    "df = df.drop(columns=['IN_TREINEIRO'])\n"
   ]
  },
  {
   "cell_type": "code",
   "execution_count": null,
   "metadata": {},
   "outputs": [],
   "source": [
    "df.columns"
   ]
  },
  {
   "cell_type": "code",
   "execution_count": null,
   "metadata": {},
   "outputs": [],
   "source": [
    "prova_columns = ['TP_PRESENCA_CN', 'TP_PRESENCA_CH', 'TP_PRESENCA_LC','TP_PRESENCA_MT']\n",
    "condition = ~df[prova_columns].isin([0, 2]).any(axis=1)\n",
    "df= df[condition]"
   ]
  },
  {
   "cell_type": "code",
   "execution_count": null,
   "metadata": {},
   "outputs": [],
   "source": [
    "df['TP_PRESENCA_CH'].unique()"
   ]
  },
  {
   "cell_type": "code",
   "execution_count": null,
   "metadata": {},
   "outputs": [],
   "source": [
    "redacao_columns = ['TP_STATUS_REDACAO']\n",
    "condition = ~df[redacao_columns].isin([2,3,4,5,6,7,8,9]).any(axis=1)\n",
    "df= df[condition]"
   ]
  },
  {
   "cell_type": "code",
   "execution_count": null,
   "metadata": {},
   "outputs": [],
   "source": [
    "df['TP_STATUS_REDACAO'].unique()"
   ]
  },
  {
   "cell_type": "code",
   "execution_count": null,
   "metadata": {},
   "outputs": [],
   "source": [
    "print(df['Q006'].unique())"
   ]
  },
  {
   "cell_type": "code",
   "execution_count": null,
   "metadata": {},
   "outputs": [],
   "source": [
    "df[['NU_NOTA_CN', 'NU_NOTA_CH', 'NU_NOTA_LC', 'NU_NOTA_MT','NU_NOTA_REDACAO']] = df[['NU_NOTA_CN', 'NU_NOTA_CH', 'NU_NOTA_LC', 'NU_NOTA_MT','NU_NOTA_REDACAO']].astype(float)\n",
    "mean_data = df.groupby('Q006')[['NU_NOTA_CN', 'NU_NOTA_CH', 'NU_NOTA_LC', 'NU_NOTA_MT','NU_NOTA_REDACAO']].mean().reset_index()\n",
    "mean_data"
   ]
  },
  {
   "cell_type": "code",
   "execution_count": null,
   "metadata": {},
   "outputs": [],
   "source": [
    "print(mean_data.columns)\n"
   ]
  },
  {
   "cell_type": "code",
   "execution_count": null,
   "metadata": {},
   "outputs": [],
   "source": [
    "df_notas_renda = df[['NU_NOTA_CN', 'NU_NOTA_CH', 'NU_NOTA_LC', 'NU_NOTA_MT', 'Q006','NU_NOTA_REDACAO']]\n",
    "\n",
    "mean_data = df_notas_renda.groupby('Q006').mean().reset_index()\n",
    "\n",
    "melted_data = df_notas_renda.melt(id_vars='Q006', value_vars=['NU_NOTA_CN', 'NU_NOTA_CH', 'NU_NOTA_LC', 'NU_NOTA_MT','NU_NOTA_REDACAO'], var_name='Prova', value_name='Nota')\n"
   ]
  },
  {
   "cell_type": "code",
   "execution_count": null,
   "metadata": {},
   "outputs": [],
   "source": [
    "df_notas_renda = df[['NU_NOTA_CN', 'NU_NOTA_CH', 'NU_NOTA_LC', 'NU_NOTA_MT', 'Q006','NU_NOTA_REDACAO']]\n",
    "df_notas_renda"
   ]
  },
  {
   "cell_type": "code",
   "execution_count": null,
   "metadata": {},
   "outputs": [],
   "source": [
    "melted_data = df_notas_renda.melt(id_vars='Q006', value_vars=['NU_NOTA_CN', 'NU_NOTA_CH', 'NU_NOTA_LC', 'NU_NOTA_MT','NU_NOTA_REDACAO'], var_name='Prova', value_name='Nota')\n",
    "melted_data"
   ]
  },
  {
   "cell_type": "code",
   "execution_count": null,
   "metadata": {},
   "outputs": [],
   "source": [
    "melted_data['Nota'] = melted_data['Nota'].astype(float)\n",
    "melted_data\n"
   ]
  },
  {
   "cell_type": "code",
   "execution_count": null,
   "metadata": {},
   "outputs": [],
   "source": [
    "renda_mapping = {\n",
    "    'A': 'Nenhuma Renda',\n",
    "    'B': 'Até R$ 1.212,00',\n",
    "    'C': 'De R$ 1.212,01 até R$ 1.818,00',\n",
    "    'D': 'De R$ 1.818,01 até R$ 2.424,00',\n",
    "    'E': 'De R$ 2.424,01 até R$ 3.030,00',\n",
    "    'F': 'De R$ 3.030,01 até R$ 3.636,00',\n",
    "    'G': 'De R$ 3.636,01 até R$ 4.848,00',\n",
    "    'H': 'De R$ 4.848,01 até R$ 6.060,00',\n",
    "    'I': 'De R$ 6.060,01 até R$ 7.272,00',\n",
    "    'J': 'De R$ 7.272,01 até R$ 8.484,00',\n",
    "    'K': 'De R$ 8.484,01 até R$ 9.696,00',\n",
    "    'L': 'De R$ 9.696,01 até R$ 10.908,00',\n",
    "    'M': 'De R$ 10.908,01 até R$ 12.120,00',\n",
    "    'N': 'De R$ 12.120,01 até R$ 14.544,00',\n",
    "    'O': 'De R$ 14.544,01 até R$ 18.180,00',\n",
    "    'P': 'De R$ 18.180,01 até R$ 24.240,00',\n",
    "    'Q': 'Acima de R$ 24.240,00.'\n",
    "}\n",
    "\n",
    "# Aplicar o mapeamento na coluna 'Q006' de 'melted_data'\n",
    "melted_data['Q006'] = melted_data['Q006'].replace(renda_mapping)\n"
   ]
  },
  {
   "cell_type": "code",
   "execution_count": null,
   "metadata": {},
   "outputs": [],
   "source": [
    "prova_mapping = {\n",
    "    'NU_NOTA_CN': 'Nota da prova de Ciências da Natureza',\n",
    "    'NU_NOTA_CH': 'Nota da prova de Ciências Humanas',\n",
    "    'NU_NOTA_LC': 'Nota da prova de Linguagens e Códigos',\n",
    "    'NU_NOTA_MT': 'Nota da prova de Matemática',\n",
    "    'NU_NOTA_REDACAO': 'Nota da prova de redação'\n",
    "}\n",
    "\n",
    "# Substitua os valores na coluna 'Prova'\n",
    "melted_data['Prova'] = melted_data['Prova'].replace(prova_mapping)"
   ]
  },
  {
   "cell_type": "code",
   "execution_count": null,
   "metadata": {},
   "outputs": [],
   "source": [
    "import seaborn as sns\n",
    "import matplotlib.pyplot as plt\n",
    "plt.figure(figsize=(12, 6))\n",
    "sns.barplot(x='Q006', y='Nota', hue='Prova', data=melted_data, ci=None)\n",
    "plt.title('Desempenho dos Alunos por Faixa de Renda')\n",
    "plt.xlabel('Faixa de Renda')\n",
    "plt.ylabel('Nota')\n",
    "plt.xticks(rotation=90)\n",
    "plt.show() "
   ]
  },
  {
   "cell_type": "code",
   "execution_count": null,
   "metadata": {},
   "outputs": [],
   "source": [
    "#Não vamos utilizar esse gráfico por isso não está em ordem crescente"
   ]
  },
  {
   "cell_type": "code",
   "execution_count": null,
   "metadata": {},
   "outputs": [],
   "source": [
    "df['NU_NOTA_CN'] = pd.to_numeric(df['NU_NOTA_CN'], errors='coerce')\n",
    "df['NU_NOTA_CH'] = pd.to_numeric(df['NU_NOTA_CH'], errors='coerce')\n",
    "df['NU_NOTA_LC'] = pd.to_numeric(df['NU_NOTA_LC'], errors='coerce')\n",
    "df['NU_NOTA_MT'] = pd.to_numeric(df['NU_NOTA_MT'], errors='coerce')\n",
    "df['NU_NOTA_REDACAO'] = pd.to_numeric(df['NU_NOTA_REDACAO'], errors='coerce')"
   ]
  },
  {
   "cell_type": "code",
   "execution_count": null,
   "metadata": {},
   "outputs": [],
   "source": [
    "notas = df[['NU_NOTA_CN', 'NU_NOTA_CH', 'NU_NOTA_LC', 'NU_NOTA_MT','NU_NOTA_REDACAO']]"
   ]
  },
  {
   "cell_type": "code",
   "execution_count": null,
   "metadata": {},
   "outputs": [],
   "source": [
    "mean_values = df[['NU_NOTA_CN', 'NU_NOTA_CH', 'NU_NOTA_LC', 'NU_NOTA_MT','NU_NOTA_REDACAO']].mean()\n",
    "print(mean_values)"
   ]
  },
  {
   "cell_type": "code",
   "execution_count": null,
   "metadata": {},
   "outputs": [],
   "source": [
    "sigma = df[['NU_NOTA_CN', 'NU_NOTA_CH', 'NU_NOTA_LC', 'NU_NOTA_MT','NU_NOTA_REDACAO']].std().mean()\n",
    "sigma"
   ]
  },
  {
   "cell_type": "code",
   "execution_count": null,
   "metadata": {},
   "outputs": [],
   "source": [
    "mean_data = df.groupby('Q006')[['NU_NOTA_CN', 'NU_NOTA_CH', 'NU_NOTA_LC', 'NU_NOTA_MT','NU_NOTA_REDACAO']].mean()\n",
    "mean_data "
   ]
  },
  {
   "cell_type": "code",
   "execution_count": null,
   "metadata": {},
   "outputs": [],
   "source": [
    "d_data = (mean_data - mean_values) / sigma\n",
    "d_data"
   ]
  },
  {
   "cell_type": "code",
   "execution_count": null,
   "metadata": {},
   "outputs": [],
   "source": [
    "melted_data = d_data.reset_index().melt(id_vars='Q006', var_name='Prova', value_name='Coeficiente d')\n",
    "melted_data "
   ]
  },
  {
   "cell_type": "code",
   "execution_count": null,
   "metadata": {},
   "outputs": [],
   "source": [
    "melted_data['Q006'] = melted_data['Q006'].replace(renda_mapping)\n",
    "melted_data['Prova'] = melted_data['Prova'].replace(prova_mapping)\n",
    "plt.figure(figsize=(12, 6))\n",
    "sns.barplot(x='Q006', y='Coeficiente d', hue='Prova', data=melted_data)\n",
    "plt.title('Coeficiente d de Cohen por Faixa de Renda')\n",
    "plt.xlabel('Faixa de Renda')\n",
    "plt.ylabel('Coeficiente d')\n",
    "plt.xticks(rotation=90)\n",
    "plt.show()"
   ]
  },
  {
   "cell_type": "code",
   "execution_count": null,
   "metadata": {},
   "outputs": [],
   "source": [
    "#Um valor de d perto de 0 sugere que não há diferença significativa entre os grupos.\n",
    "#Um valor de d positivo sugere que as escolas públicas têm um desempenho melhor.\n",
    "#Um valor de d negativo sugere que as escolas particulares têm um desempenho melhor."
   ]
  },
  {
   "cell_type": "code",
   "execution_count": null,
   "metadata": {},
   "outputs": [],
   "source": [
    "publica = df[df['TP_DEPENDENCIA_ADM_ESC'].isin([1, 2, 3])]\n",
    "particular = df[df['TP_DEPENDENCIA_ADM_ESC'] == 4]\n",
    "publica"
   ]
  },
  {
   "cell_type": "code",
   "execution_count": null,
   "metadata": {},
   "outputs": [],
   "source": [
    "mean_publica = publica[['NU_NOTA_CN', 'NU_NOTA_CH', 'NU_NOTA_LC', 'NU_NOTA_MT', 'NU_NOTA_REDACAO']].mean()\n",
    "mean_particular = particular[['NU_NOTA_CN', 'NU_NOTA_CH', 'NU_NOTA_LC', 'NU_NOTA_MT', 'NU_NOTA_REDACAO']].mean()\n",
    "sigma_publica = publica[['NU_NOTA_CN', 'NU_NOTA_CH', 'NU_NOTA_LC', 'NU_NOTA_MT', 'NU_NOTA_REDACAO']].std()\n",
    "sigma_particular = particular[['NU_NOTA_CN', 'NU_NOTA_CH', 'NU_NOTA_LC', 'NU_NOTA_MT', 'NU_NOTA_REDACAO']].std()"
   ]
  },
  {
   "cell_type": "code",
   "execution_count": null,
   "metadata": {},
   "outputs": [],
   "source": [
    "import numpy as np\n",
    "d_cohen = (mean_publica - mean_particular) / np.sqrt((sigma_publica**2 + sigma_particular**2) / 2)\n",
    "d_cohen"
   ]
  },
  {
   "cell_type": "code",
   "execution_count": null,
   "metadata": {},
   "outputs": [],
   "source": [
    "prova_mapping = {\n",
    "    'NU_NOTA_CN': 'Ciências da Natureza',\n",
    "    'NU_NOTA_CH': 'Ciências Humanas',\n",
    "    'NU_NOTA_LC': 'Linguagens e Códigos',\n",
    "    'NU_NOTA_MT': 'Matemática',\n",
    "    'NU_NOTA_REDACAO': 'Redação'\n",
    "}\n",
    "\n",
    "melted_data['Prova'] = melted_data['Prova'].replace(prova_mapping)"
   ]
  },
  {
   "cell_type": "code",
   "execution_count": null,
   "metadata": {},
   "outputs": [],
   "source": [
    "d_cohen_df = d_cohen.reset_index().rename(columns={'index': 'Prova', 0: 'd'})\n",
    "d_cohen_df"
   ]
  },
  {
   "cell_type": "code",
   "execution_count": null,
   "metadata": {},
   "outputs": [],
   "source": [
    "d_cohen_df = d_cohen.reset_index().rename(columns={'index': 'Prova', 0: 'd'})\n",
    "d_cohen_df['Prova'] = d_cohen_df['Prova'].replace(prova_mapping)\n",
    "\n",
    "d_cohen_df"
   ]
  },
  {
   "cell_type": "code",
   "execution_count": null,
   "metadata": {},
   "outputs": [],
   "source": [
    "sns.barplot(x='Prova', y='d', data=d_cohen_df)\n",
    "plt.title('Desempenho das Escolas Públicas em relação as Escolas Particulares (d de Cohen)')\n",
    "plt.xlabel('Prova',fontweight='bold')\n",
    "plt.ylabel('d de Cohen',fontweight='bold')\n",
    "plt.xticks(rotation=90)\n",
    "plt.show() "
   ]
  },
  {
   "cell_type": "code",
   "execution_count": null,
   "metadata": {},
   "outputs": [],
   "source": []
  }
 ],
 "metadata": {
  "kernelspec": {
   "display_name": ".venv",
   "language": "python",
   "name": "python3"
  },
  "language_info": {
   "codemirror_mode": {
    "name": "ipython",
    "version": 3
   },
   "file_extension": ".py",
   "mimetype": "text/x-python",
   "name": "python",
   "nbconvert_exporter": "python",
   "pygments_lexer": "ipython3",
   "version": "3.11.4"
  },
  "orig_nbformat": 4
 },
 "nbformat": 4,
 "nbformat_minor": 2
}
