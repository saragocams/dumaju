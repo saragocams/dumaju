{
 "cells": [
  {
   "cell_type": "code",
   "execution_count": 1,
   "metadata": {},
   "outputs": [],
   "source": [
    "import pandas as pd\n",
    "import numpy as np\n",
    "from collections import Counter\n",
    "import re"
   ]
  },
  {
   "cell_type": "code",
   "execution_count": 2,
   "metadata": {},
   "outputs": [
    {
     "data": {
      "text/html": [
       "<div>\n",
       "<style scoped>\n",
       "    .dataframe tbody tr th:only-of-type {\n",
       "        vertical-align: middle;\n",
       "    }\n",
       "\n",
       "    .dataframe tbody tr th {\n",
       "        vertical-align: top;\n",
       "    }\n",
       "\n",
       "    .dataframe thead th {\n",
       "        text-align: right;\n",
       "    }\n",
       "</style>\n",
       "<table border=\"1\" class=\"dataframe\">\n",
       "  <thead>\n",
       "    <tr style=\"text-align: right;\">\n",
       "      <th></th>\n",
       "      <th>title</th>\n",
       "      <th>lyrics</th>\n",
       "    </tr>\n",
       "  </thead>\n",
       "  <tbody>\n",
       "    <tr>\n",
       "      <th>0</th>\n",
       "      <td>Las Palabras de Amor</td>\n",
       "      <td>Don't touch me now Don't hold me now Don't bre...</td>\n",
       "    </tr>\n",
       "    <tr>\n",
       "      <th>1</th>\n",
       "      <td>Lazing On A Sunday Afternoon</td>\n",
       "      <td>I go out to work on Monday morning Tuesday I g...</td>\n",
       "    </tr>\n",
       "    <tr>\n",
       "      <th>2</th>\n",
       "      <td>Leaving Home Ain't Easy</td>\n",
       "      <td>Words and music by Brian May  I take a step o...</td>\n",
       "    </tr>\n",
       "    <tr>\n",
       "      <th>3</th>\n",
       "      <td>Let Me Entertain You</td>\n",
       "      <td>Hey - it's a sellout  Hey - let me welcome you...</td>\n",
       "    </tr>\n",
       "    <tr>\n",
       "      <th>4</th>\n",
       "      <td>Let Me Live</td>\n",
       "      <td>Why don't you take another little piece Of my...</td>\n",
       "    </tr>\n",
       "    <tr>\n",
       "      <th>...</th>\n",
       "      <td>...</td>\n",
       "      <td>...</td>\n",
       "    </tr>\n",
       "    <tr>\n",
       "      <th>106</th>\n",
       "      <td>The Show Must Go On</td>\n",
       "      <td>Empty spaces - what are we living for Abandone...</td>\n",
       "    </tr>\n",
       "    <tr>\n",
       "      <th>107</th>\n",
       "      <td>You And I</td>\n",
       "      <td>Music is playing in the darkness And a lantern...</td>\n",
       "    </tr>\n",
       "    <tr>\n",
       "      <th>108</th>\n",
       "      <td>You Are The Champions</td>\n",
       "      <td>I've paid my dues Time after time I've done my...</td>\n",
       "    </tr>\n",
       "    <tr>\n",
       "      <th>109</th>\n",
       "      <td>You Don't Fool Me</td>\n",
       "      <td>You don't fool me You don't fool me... Da, da ...</td>\n",
       "    </tr>\n",
       "    <tr>\n",
       "      <th>110</th>\n",
       "      <td>You Take My Breath Away</td>\n",
       "      <td>Oooh oooh take it take it all away Oooh ooh ta...</td>\n",
       "    </tr>\n",
       "  </tbody>\n",
       "</table>\n",
       "<p>111 rows × 2 columns</p>\n",
       "</div>"
      ],
      "text/plain": [
       "                            title  \\\n",
       "0            Las Palabras de Amor   \n",
       "1    Lazing On A Sunday Afternoon   \n",
       "2         Leaving Home Ain't Easy   \n",
       "3            Let Me Entertain You   \n",
       "4                     Let Me Live   \n",
       "..                            ...   \n",
       "106           The Show Must Go On   \n",
       "107                     You And I   \n",
       "108         You Are The Champions   \n",
       "109             You Don't Fool Me   \n",
       "110       You Take My Breath Away   \n",
       "\n",
       "                                                lyrics  \n",
       "0    Don't touch me now Don't hold me now Don't bre...  \n",
       "1    I go out to work on Monday morning Tuesday I g...  \n",
       "2     Words and music by Brian May  I take a step o...  \n",
       "3    Hey - it's a sellout  Hey - let me welcome you...  \n",
       "4     Why don't you take another little piece Of my...  \n",
       "..                                                 ...  \n",
       "106  Empty spaces - what are we living for Abandone...  \n",
       "107  Music is playing in the darkness And a lantern...  \n",
       "108  I've paid my dues Time after time I've done my...  \n",
       "109  You don't fool me You don't fool me... Da, da ...  \n",
       "110  Oooh oooh take it take it all away Oooh ooh ta...  \n",
       "\n",
       "[111 rows x 2 columns]"
      ]
     },
     "execution_count": 2,
     "metadata": {},
     "output_type": "execute_result"
    }
   ],
   "source": [
    "file_path = \"dados/queen.txt\" \n",
    "with open(file_path, \"r\") as f:\n",
    "    lines = f.readlines()\n",
    "\n",
    "songs = []\n",
    "song = {\"title\": \"\", \"lyrics\": \"\"}\n",
    "for line in lines:\n",
    "    line = line.strip()\n",
    "    if line == \"-----\":\n",
    "        if song[\"title\"] and song[\"lyrics\"]:\n",
    "            songs.append(song)\n",
    "        song = {\"title\": \"\", \"lyrics\": \"\"}\n",
    "    elif not song[\"title\"]:\n",
    "        song[\"title\"] = line\n",
    "    else:\n",
    "        song[\"lyrics\"] += line + \" \"\n",
    "\n",
    "df1 = pd.DataFrame(songs)\n",
    "df1"
   ]
  },
  {
   "cell_type": "code",
   "execution_count": 18,
   "metadata": {},
   "outputs": [
    {
     "name": "stdout",
     "output_type": "stream",
     "text": [
      "Número total de palavras limpas nas músicas dos Queen: 23244\n",
      "[('the', 910), ('you', 735), ('and', 557), ('i', 547), ('to', 514), ('a', 476), ('me', 447), ('my', 353), ('it', 308), ('on', 277), ('of', 271), ('in', 269), ('all', 250), ('your', 245), ('love', 238)]\n"
     ]
    }
   ],
   "source": [
    "\n",
    "def clean_text(text):\n",
    "    text = re.sub(r'[^\\w\\s]', '', text) #\\w: qualquer caractere alfanumérico, \\s: qualquer espaço em branco, ^: qualquer coisa que não seja o que está dentro do colchetes\n",
    "    text = text.lower()\n",
    "    return text\n",
    "\n",
    "def word_frequency(text):\n",
    "    words = text.split()\n",
    "    return Counter(words)\n",
    "\n",
    "df1['clean_lyrics'] = df1['lyrics'].apply(clean_text)\n",
    "df1['word_freq'] = df1['clean_lyrics'].apply(word_frequency)\n",
    "\n",
    "# Frequência global de palavras\n",
    "global_word_freq_queen = Counter()\n",
    "for freq in df1['word_freq']:\n",
    "    global_word_freq_queen += freq\n",
    "\n",
    "all_songs_clean_queen = \" \".join(df1['clean_lyrics'])\n",
    "words_list_clean_queen = all_songs_clean_queen.split()\n",
    "total_words_queen_clean_queen = len(words_list_clean_queen)\n",
    "\n",
    "print(f\"Número total de palavras limpas nas músicas dos Queen: {total_words_queen_clean_queen}\")\n",
    "print(global_word_freq_queen.most_common(15))\n"
   ]
  },
  {
   "cell_type": "code",
   "execution_count": 19,
   "metadata": {},
   "outputs": [
    {
     "name": "stdout",
     "output_type": "stream",
     "text": [
      "1. A probabilidade da palavra 'the' aparecer em uma música dos Beatles é 0.039150\n",
      "2. A probabilidade da palavra 'you' aparecer em uma música dos Beatles é 0.031621\n",
      "3. A probabilidade da palavra 'and' aparecer em uma música dos Beatles é 0.023963\n",
      "4. A probabilidade da palavra 'i' aparecer em uma música dos Beatles é 0.023533\n",
      "5. A probabilidade da palavra 'to' aparecer em uma música dos Beatles é 0.022113\n",
      "6. A probabilidade da palavra 'a' aparecer em uma música dos Beatles é 0.020478\n",
      "7. A probabilidade da palavra 'me' aparecer em uma música dos Beatles é 0.019231\n",
      "8. A probabilidade da palavra 'my' aparecer em uma música dos Beatles é 0.015187\n",
      "9. A probabilidade da palavra 'it' aparecer em uma música dos Beatles é 0.013251\n",
      "10. A probabilidade da palavra 'on' aparecer em uma música dos Beatles é 0.011917\n"
     ]
    }
   ],
   "source": [
    "word_count_clean_queen = Counter(words_list_clean_queen)\n",
    "word_probability_clean_queen = {word: count / total_words_queen_clean_queen for word, count in word_count_clean_queen.items()}\n",
    "\n",
    "# Ordenar as palavras pela probabilidade\n",
    "sorted_word_probability_clean_queen = {k: v for k, v in sorted(word_probability_clean_queen.items(), key=lambda item: item[1], reverse=True)}\n",
    "\n",
    "# Exibir as palavras com maior probabilidade de aparecer\n",
    "for i, (word, prob) in enumerate(list(sorted_word_probability_clean_queen.items())[:10]):  \n",
    "    print(f\"{i+1}. A probabilidade da palavra '{word}' aparecer em uma música dos Beatles é {prob:.6f}\")"
   ]
  },
  {
   "cell_type": "code",
   "execution_count": 20,
   "metadata": {},
   "outputs": [
    {
     "name": "stdout",
     "output_type": "stream",
     "text": [
      "Número total de palavras únicas: 2427\n"
     ]
    }
   ],
   "source": [
    "print(f\"Número total de palavras únicas: {len(sorted_word_probability_clean_queen)}\")\n"
   ]
  },
  {
   "cell_type": "code",
   "execution_count": 23,
   "metadata": {},
   "outputs": [
    {
     "name": "stdout",
     "output_type": "stream",
     "text": [
      "sample text numbers special characters\n"
     ]
    }
   ],
   "source": [
    "import re\n",
    "\n",
    "def clean_text_custom(text):\n",
    "    # Remoção de Caracteres Especiais e Numéricos\n",
    "    text = re.sub(r'[^a-zA-Z\\s]', '', text)\n",
    "    \n",
    "    # Converter para Minúsculas\n",
    "    text = text.lower()\n",
    "    \n",
    "    # Remoção de Stopwords\n",
    "    stop_words = set([\"the\", \"and\", \"to\", \"of\", \"in\", \"on\", \"with\", \"as\", \"by\", \"an\", \"for\", \"at\", \"or\", \"is\", \"be\", \"that\", \"this\",\"a\"])  # Este é um exemplo; você pode expandir essa lista\n",
    "    words = text.split()\n",
    "    text = ' '.join([word for word in words if word not in stop_words])\n",
    "    \n",
    "    return text\n",
    "\n",
    "# Exemplo de uso\n",
    "text_sample = \"This is a Sample text, with numbers 123 and special characters !@#.\"\n",
    "cleaned_text = clean_text_custom(text_sample)\n",
    "print(cleaned_text)\n",
    "\n"
   ]
  },
  {
   "cell_type": "code",
   "execution_count": null,
   "metadata": {},
   "outputs": [],
   "source": []
  }
 ],
 "metadata": {
  "kernelspec": {
   "display_name": "Python 3",
   "language": "python",
   "name": "python3"
  },
  "language_info": {
   "codemirror_mode": {
    "name": "ipython",
    "version": 3
   },
   "file_extension": ".py",
   "mimetype": "text/x-python",
   "name": "python",
   "nbconvert_exporter": "python",
   "pygments_lexer": "ipython3",
   "version": "3.9.13"
  },
  "orig_nbformat": 4
 },
 "nbformat": 4,
 "nbformat_minor": 2
}
